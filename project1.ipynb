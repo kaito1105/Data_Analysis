{
 "cells": [
  {
   "cell_type": "markdown",
   "id": "08fd4946-237c-4bb1-b975-c88adc843b0e",
   "metadata": {},
   "source": [
    "# Stroke factors\n",
    "### Project 1\n",
    "#### Kaito Miyamoto & Rebecca Christodoulou"
   ]
  },
  {
   "cell_type": "markdown",
   "id": "0405c4b3-ec9c-48f8-9282-2a8424439fbe",
   "metadata": {},
   "source": [
    "### The stroke prediction dataset:\n",
    "https://www.kaggle.com/datasets/fedesoriano/stroke-prediction-dataset "
   ]
  },
  {
   "cell_type": "markdown",
   "id": "e699685b-0e18-4e8d-be60-23a2edf2a954",
   "metadata": {},
   "source": [
    "In this project, we are analyzing the key factors that contribute to the risk of stroke, based on the analysis of various health indicators such as age, gender, glucose levels, hypertension, and heart disease.\n",
    "The data reveals clear trends in stroke occurrence across different demographics and health conditions."
   ]
  },
  {
   "cell_type": "markdown",
   "id": "a1e3bd44-051f-459b-9aad-1110873d1fe4",
   "metadata": {},
   "source": [
    "#### The dataset has 12 variables.\n",
    "* id: unique identifier\n",
    "* gender: \"Male\", \"Female\", \"Other\"\n",
    "* age: age of the patient\n",
    "* hypertension: 0 if no hypertension, otherwise 1\n",
    "* heart_disease: 0 if no heart diseases, otherwise 1\n",
    "* ever_married: \"No\", \"Yes\"\n",
    "* work_type: \"children\", \"Govt_jov\", \"Never_worked\", \"Private\", \"Self-employed\"\n",
    "* Residence_type: \"Rural\", \"Urban\"\n",
    "* avg_glucose_level: average glucose level in blood\n",
    "* bmi: body mass index\n",
    "* smoking_status: \"formerly smoked\", \"never smoked\", \"smokes\", \"Unknown\"\n",
    "* stroke: 1 if a stroke, otherwise 0\n",
    "\n",
    "Note: \"Unknown\" in smoking_status means that the information is unavailable for this patient"
   ]
  },
  {
   "cell_type": "code",
   "execution_count": 5,
   "id": "2770ea6b-7b1a-48cc-afc1-096264d429a3",
   "metadata": {},
   "outputs": [],
   "source": [
    "import numpy as np \n",
    "import pandas as pd \n",
    "import matplotlib.pyplot as plt \n",
    "import os"
   ]
  },
  {
   "cell_type": "code",
   "execution_count": 6,
   "id": "b9c287c8-2b21-42db-9e87-ae493be80500",
   "metadata": {},
   "outputs": [],
   "source": [
    "os.environ[\"OMP_NUM_THREADS\"] = \"4\""
   ]
  },
  {
   "cell_type": "code",
   "execution_count": 7,
   "id": "917d527e-f486-463a-8363-d7f033288433",
   "metadata": {},
   "outputs": [
    {
     "data": {
      "text/html": [
       "<div>\n",
       "<style scoped>\n",
       "    .dataframe tbody tr th:only-of-type {\n",
       "        vertical-align: middle;\n",
       "    }\n",
       "\n",
       "    .dataframe tbody tr th {\n",
       "        vertical-align: top;\n",
       "    }\n",
       "\n",
       "    .dataframe thead th {\n",
       "        text-align: right;\n",
       "    }\n",
       "</style>\n",
       "<table border=\"1\" class=\"dataframe\">\n",
       "  <thead>\n",
       "    <tr style=\"text-align: right;\">\n",
       "      <th></th>\n",
       "      <th>id</th>\n",
       "      <th>gender</th>\n",
       "      <th>age</th>\n",
       "      <th>hypertension</th>\n",
       "      <th>heart_disease</th>\n",
       "      <th>ever_married</th>\n",
       "      <th>work_type</th>\n",
       "      <th>Residence_type</th>\n",
       "      <th>avg_glucose_level</th>\n",
       "      <th>bmi</th>\n",
       "      <th>smoking_status</th>\n",
       "      <th>stroke</th>\n",
       "    </tr>\n",
       "  </thead>\n",
       "  <tbody>\n",
       "    <tr>\n",
       "      <th>0</th>\n",
       "      <td>9046</td>\n",
       "      <td>Male</td>\n",
       "      <td>67.0</td>\n",
       "      <td>0</td>\n",
       "      <td>1</td>\n",
       "      <td>Yes</td>\n",
       "      <td>Private</td>\n",
       "      <td>Urban</td>\n",
       "      <td>228.69</td>\n",
       "      <td>36.6</td>\n",
       "      <td>formerly smoked</td>\n",
       "      <td>1</td>\n",
       "    </tr>\n",
       "    <tr>\n",
       "      <th>1</th>\n",
       "      <td>51676</td>\n",
       "      <td>Female</td>\n",
       "      <td>61.0</td>\n",
       "      <td>0</td>\n",
       "      <td>0</td>\n",
       "      <td>Yes</td>\n",
       "      <td>Self-employed</td>\n",
       "      <td>Rural</td>\n",
       "      <td>202.21</td>\n",
       "      <td>NaN</td>\n",
       "      <td>never smoked</td>\n",
       "      <td>1</td>\n",
       "    </tr>\n",
       "    <tr>\n",
       "      <th>2</th>\n",
       "      <td>31112</td>\n",
       "      <td>Male</td>\n",
       "      <td>80.0</td>\n",
       "      <td>0</td>\n",
       "      <td>1</td>\n",
       "      <td>Yes</td>\n",
       "      <td>Private</td>\n",
       "      <td>Rural</td>\n",
       "      <td>105.92</td>\n",
       "      <td>32.5</td>\n",
       "      <td>never smoked</td>\n",
       "      <td>1</td>\n",
       "    </tr>\n",
       "    <tr>\n",
       "      <th>3</th>\n",
       "      <td>60182</td>\n",
       "      <td>Female</td>\n",
       "      <td>49.0</td>\n",
       "      <td>0</td>\n",
       "      <td>0</td>\n",
       "      <td>Yes</td>\n",
       "      <td>Private</td>\n",
       "      <td>Urban</td>\n",
       "      <td>171.23</td>\n",
       "      <td>34.4</td>\n",
       "      <td>smokes</td>\n",
       "      <td>1</td>\n",
       "    </tr>\n",
       "    <tr>\n",
       "      <th>4</th>\n",
       "      <td>1665</td>\n",
       "      <td>Female</td>\n",
       "      <td>79.0</td>\n",
       "      <td>1</td>\n",
       "      <td>0</td>\n",
       "      <td>Yes</td>\n",
       "      <td>Self-employed</td>\n",
       "      <td>Rural</td>\n",
       "      <td>174.12</td>\n",
       "      <td>24.0</td>\n",
       "      <td>never smoked</td>\n",
       "      <td>1</td>\n",
       "    </tr>\n",
       "  </tbody>\n",
       "</table>\n",
       "</div>"
      ],
      "text/plain": [
       "      id  gender   age  hypertension  heart_disease ever_married  \\\n",
       "0   9046    Male  67.0             0              1          Yes   \n",
       "1  51676  Female  61.0             0              0          Yes   \n",
       "2  31112    Male  80.0             0              1          Yes   \n",
       "3  60182  Female  49.0             0              0          Yes   \n",
       "4   1665  Female  79.0             1              0          Yes   \n",
       "\n",
       "       work_type Residence_type  avg_glucose_level   bmi   smoking_status  \\\n",
       "0        Private          Urban             228.69  36.6  formerly smoked   \n",
       "1  Self-employed          Rural             202.21   NaN     never smoked   \n",
       "2        Private          Rural             105.92  32.5     never smoked   \n",
       "3        Private          Urban             171.23  34.4           smokes   \n",
       "4  Self-employed          Rural             174.12  24.0     never smoked   \n",
       "\n",
       "   stroke  \n",
       "0       1  \n",
       "1       1  \n",
       "2       1  \n",
       "3       1  \n",
       "4       1  "
      ]
     },
     "execution_count": 7,
     "metadata": {},
     "output_type": "execute_result"
    }
   ],
   "source": [
    "data = pd.read_csv('Data/healthcare-dataset-stroke-data.csv')\n",
    "data.head()"
   ]
  },
  {
   "cell_type": "code",
   "execution_count": 8,
   "id": "bc5d0251-41c1-4d7b-8ebc-3cc9230282cb",
   "metadata": {},
   "outputs": [
    {
     "data": {
      "text/plain": [
       "(5110, 12)"
      ]
     },
     "execution_count": 8,
     "metadata": {},
     "output_type": "execute_result"
    }
   ],
   "source": [
    "data.shape"
   ]
  },
  {
   "cell_type": "code",
   "execution_count": 9,
   "id": "7f7e328d-960f-4312-ba8f-a2db18db6293",
   "metadata": {},
   "outputs": [
    {
     "data": {
      "text/plain": [
       "id                     int64\n",
       "gender                object\n",
       "age                  float64\n",
       "hypertension           int64\n",
       "heart_disease          int64\n",
       "ever_married          object\n",
       "work_type             object\n",
       "Residence_type        object\n",
       "avg_glucose_level    float64\n",
       "bmi                  float64\n",
       "smoking_status        object\n",
       "stroke                 int64\n",
       "dtype: object"
      ]
     },
     "execution_count": 9,
     "metadata": {},
     "output_type": "execute_result"
    }
   ],
   "source": [
    "data.dtypes"
   ]
  },
  {
   "cell_type": "markdown",
   "id": "96de519b-ae23-4ca1-bfa3-80d62ba7a139",
   "metadata": {},
   "source": [
    "We have 4 integers, 3 floats, and 5 objects in the dataset."
   ]
  },
  {
   "cell_type": "markdown",
   "id": "9c654695-679c-44b9-8e28-6af76bc48016",
   "metadata": {},
   "source": [
    "We will drop \"id\", \"ever married\", \"work type\", \"Residence type\", \"bmi\", and \"smoking status\" from the dataset to focus on the specific health indicators."
   ]
  },
  {
   "cell_type": "code",
   "execution_count": 11,
   "id": "d644db63-8a4c-42d4-8148-31f7d8068af2",
   "metadata": {},
   "outputs": [
    {
     "data": {
      "text/html": [
       "<div>\n",
       "<style scoped>\n",
       "    .dataframe tbody tr th:only-of-type {\n",
       "        vertical-align: middle;\n",
       "    }\n",
       "\n",
       "    .dataframe tbody tr th {\n",
       "        vertical-align: top;\n",
       "    }\n",
       "\n",
       "    .dataframe thead th {\n",
       "        text-align: right;\n",
       "    }\n",
       "</style>\n",
       "<table border=\"1\" class=\"dataframe\">\n",
       "  <thead>\n",
       "    <tr style=\"text-align: right;\">\n",
       "      <th></th>\n",
       "      <th>gender</th>\n",
       "      <th>age</th>\n",
       "      <th>hypertension</th>\n",
       "      <th>heart_disease</th>\n",
       "      <th>avg_glucose_level</th>\n",
       "      <th>stroke</th>\n",
       "    </tr>\n",
       "  </thead>\n",
       "  <tbody>\n",
       "    <tr>\n",
       "      <th>0</th>\n",
       "      <td>Male</td>\n",
       "      <td>67.0</td>\n",
       "      <td>0</td>\n",
       "      <td>1</td>\n",
       "      <td>228.69</td>\n",
       "      <td>1</td>\n",
       "    </tr>\n",
       "    <tr>\n",
       "      <th>1</th>\n",
       "      <td>Female</td>\n",
       "      <td>61.0</td>\n",
       "      <td>0</td>\n",
       "      <td>0</td>\n",
       "      <td>202.21</td>\n",
       "      <td>1</td>\n",
       "    </tr>\n",
       "    <tr>\n",
       "      <th>2</th>\n",
       "      <td>Male</td>\n",
       "      <td>80.0</td>\n",
       "      <td>0</td>\n",
       "      <td>1</td>\n",
       "      <td>105.92</td>\n",
       "      <td>1</td>\n",
       "    </tr>\n",
       "    <tr>\n",
       "      <th>3</th>\n",
       "      <td>Female</td>\n",
       "      <td>49.0</td>\n",
       "      <td>0</td>\n",
       "      <td>0</td>\n",
       "      <td>171.23</td>\n",
       "      <td>1</td>\n",
       "    </tr>\n",
       "    <tr>\n",
       "      <th>4</th>\n",
       "      <td>Female</td>\n",
       "      <td>79.0</td>\n",
       "      <td>1</td>\n",
       "      <td>0</td>\n",
       "      <td>174.12</td>\n",
       "      <td>1</td>\n",
       "    </tr>\n",
       "  </tbody>\n",
       "</table>\n",
       "</div>"
      ],
      "text/plain": [
       "   gender   age  hypertension  heart_disease  avg_glucose_level  stroke\n",
       "0    Male  67.0             0              1             228.69       1\n",
       "1  Female  61.0             0              0             202.21       1\n",
       "2    Male  80.0             0              1             105.92       1\n",
       "3  Female  49.0             0              0             171.23       1\n",
       "4  Female  79.0             1              0             174.12       1"
      ]
     },
     "execution_count": 11,
     "metadata": {},
     "output_type": "execute_result"
    }
   ],
   "source": [
    "data.drop([\"id\", \"ever_married\", \"work_type\", \"Residence_type\", \"bmi\", \"smoking_status\"], axis=1, inplace=True)\n",
    "data.head()"
   ]
  },
  {
   "cell_type": "markdown",
   "id": "cfab0666-1095-450f-8f9e-9b04259b137c",
   "metadata": {},
   "source": [
    "## Cleaning data"
   ]
  },
  {
   "cell_type": "code",
   "execution_count": 13,
   "id": "ed3e6322-8820-4a04-b908-30cae5b3c904",
   "metadata": {},
   "outputs": [
    {
     "data": {
      "text/plain": [
       "gender               0\n",
       "age                  0\n",
       "hypertension         0\n",
       "heart_disease        0\n",
       "avg_glucose_level    0\n",
       "stroke               0\n",
       "dtype: int64"
      ]
     },
     "execution_count": 13,
     "metadata": {},
     "output_type": "execute_result"
    }
   ],
   "source": [
    "data.isna().sum()"
   ]
  },
  {
   "cell_type": "code",
   "execution_count": 14,
   "id": "9c26c595-bf9e-4efd-98c4-accbf88b31a5",
   "metadata": {},
   "outputs": [
    {
     "name": "stdout",
     "output_type": "stream",
     "text": [
      "gender\n",
      "Female    2994\n",
      "Male      2115\n",
      "Other        1\n",
      "Name: count, dtype: int64 \n",
      "\n",
      "hypertension\n",
      "0    4612\n",
      "1     498\n",
      "Name: count, dtype: int64 \n",
      "\n",
      "heart_disease\n",
      "0    4834\n",
      "1     276\n",
      "Name: count, dtype: int64 \n",
      "\n",
      "stroke\n",
      "0    4861\n",
      "1     249\n",
      "Name: count, dtype: int64 \n",
      "\n"
     ]
    }
   ],
   "source": [
    "print(data.gender.value_counts(), \"\\n\")\n",
    "print(data.hypertension.value_counts(), \"\\n\")\n",
    "print(data.heart_disease.value_counts(), \"\\n\")\n",
    "print(data.stroke.value_counts(), \"\\n\")"
   ]
  },
  {
   "cell_type": "markdown",
   "id": "e2e93731-7a4a-46d9-85e4-6c900e621562",
   "metadata": {},
   "source": [
    "We will remove \"other\" from gender since it has only one value."
   ]
  },
  {
   "cell_type": "code",
   "execution_count": 16,
   "id": "4b0dc379-78d1-45ac-a7d6-3149faad2367",
   "metadata": {},
   "outputs": [
    {
     "data": {
      "text/plain": [
       "gender\n",
       "Female    2994\n",
       "Male      2115\n",
       "Name: count, dtype: int64"
      ]
     },
     "execution_count": 16,
     "metadata": {},
     "output_type": "execute_result"
    }
   ],
   "source": [
    "data = data.loc[data.gender != \"Other\"]\n",
    "data.gender.value_counts()"
   ]
  },
  {
   "cell_type": "markdown",
   "id": "f0198441-9799-48b1-a7c6-47dc600a5f97",
   "metadata": {},
   "source": [
    "## Data grouped by age and gender"
   ]
  },
  {
   "cell_type": "code",
   "execution_count": 18,
   "id": "1cc95ac3-71cd-4bdd-b93f-b678cf074765",
   "metadata": {},
   "outputs": [
    {
     "name": "stdout",
     "output_type": "stream",
     "text": [
      "Grouped data by age and gender:\n"
     ]
    },
    {
     "data": {
      "text/html": [
       "<div>\n",
       "<style scoped>\n",
       "    .dataframe tbody tr th:only-of-type {\n",
       "        vertical-align: middle;\n",
       "    }\n",
       "\n",
       "    .dataframe tbody tr th {\n",
       "        vertical-align: top;\n",
       "    }\n",
       "\n",
       "    .dataframe thead th {\n",
       "        text-align: right;\n",
       "    }\n",
       "</style>\n",
       "<table border=\"1\" class=\"dataframe\">\n",
       "  <thead>\n",
       "    <tr style=\"text-align: right;\">\n",
       "      <th></th>\n",
       "      <th>age_group</th>\n",
       "      <th>gender</th>\n",
       "      <th>stroke_rate</th>\n",
       "      <th>total</th>\n",
       "    </tr>\n",
       "  </thead>\n",
       "  <tbody>\n",
       "    <tr>\n",
       "      <th>0</th>\n",
       "      <td>&lt;=40</td>\n",
       "      <td>Female</td>\n",
       "      <td>0.006065</td>\n",
       "      <td>1319</td>\n",
       "    </tr>\n",
       "    <tr>\n",
       "      <th>1</th>\n",
       "      <td>&lt;=40</td>\n",
       "      <td>Male</td>\n",
       "      <td>0.000000</td>\n",
       "      <td>924</td>\n",
       "    </tr>\n",
       "    <tr>\n",
       "      <th>2</th>\n",
       "      <td>40-60</td>\n",
       "      <td>Female</td>\n",
       "      <td>0.037199</td>\n",
       "      <td>914</td>\n",
       "    </tr>\n",
       "    <tr>\n",
       "      <th>3</th>\n",
       "      <td>40-60</td>\n",
       "      <td>Male</td>\n",
       "      <td>0.046296</td>\n",
       "      <td>648</td>\n",
       "    </tr>\n",
       "    <tr>\n",
       "      <th>4</th>\n",
       "      <td>60-75</td>\n",
       "      <td>Female</td>\n",
       "      <td>0.088608</td>\n",
       "      <td>474</td>\n",
       "    </tr>\n",
       "    <tr>\n",
       "      <th>5</th>\n",
       "      <td>60-75</td>\n",
       "      <td>Male</td>\n",
       "      <td>0.106849</td>\n",
       "      <td>365</td>\n",
       "    </tr>\n",
       "    <tr>\n",
       "      <th>6</th>\n",
       "      <td>75+</td>\n",
       "      <td>Female</td>\n",
       "      <td>0.198606</td>\n",
       "      <td>287</td>\n",
       "    </tr>\n",
       "    <tr>\n",
       "      <th>7</th>\n",
       "      <td>75+</td>\n",
       "      <td>Male</td>\n",
       "      <td>0.219101</td>\n",
       "      <td>178</td>\n",
       "    </tr>\n",
       "  </tbody>\n",
       "</table>\n",
       "</div>"
      ],
      "text/plain": [
       "  age_group  gender  stroke_rate  total\n",
       "0      <=40  Female     0.006065   1319\n",
       "1      <=40    Male     0.000000    924\n",
       "2     40-60  Female     0.037199    914\n",
       "3     40-60    Male     0.046296    648\n",
       "4     60-75  Female     0.088608    474\n",
       "5     60-75    Male     0.106849    365\n",
       "6       75+  Female     0.198606    287\n",
       "7       75+    Male     0.219101    178"
      ]
     },
     "execution_count": 18,
     "metadata": {},
     "output_type": "execute_result"
    }
   ],
   "source": [
    "age_labels = [\"<=40\", \"40-60\", \"60-75\", \"75+\"]\n",
    "data[\"age_group\"] = pd.cut(data[\"age\"], bins=[0, 40, 60, 75, np.inf], labels=age_labels)\n",
    "\n",
    "grouped_data = data.groupby([\"age_group\", \"gender\"], observed=True).agg(\n",
    "    stroke_rate=(\"stroke\", \"mean\"),\n",
    "    total=(\"stroke\", \"size\")).reset_index()\n",
    "\n",
    "print(\"Grouped data by age and gender:\")\n",
    "grouped_data"
   ]
  },
  {
   "cell_type": "markdown",
   "id": "7a107f80-3228-4960-b6b4-94da29e4feca",
   "metadata": {},
   "source": [
    "Under 40 years old, stroke rates are lower for both genders. From the age group 40-60, males have a higher stroke than females with largest values in total. Moving on to the next age group, 60-75, the males also have a higher stroke rate than the females, and both genders have more than twice the stroke rate than the age group 40-60. And for our last age group, more than 75 years old, males have the greatest stroke rate, with more than twice the stroke rate compared to the age group 60-75.\n",
    "\n",
    "\n",
    " \n",
    " This data suggests that both age and gender are important factors in stroke risk. The stroke rate increases with age for both genders, but males are at a consistently higher risk of stroke than females, particularly as they grow older. The highest stroke risk is observed in males aged 75 and older, who have a significantly higher rate than any other group."
   ]
  },
  {
   "cell_type": "markdown",
   "id": "9a841b61-1143-4174-83ed-073d1ab7584c",
   "metadata": {},
   "source": [
    "## Comparing glucose levels"
   ]
  },
  {
   "cell_type": "code",
   "execution_count": 21,
   "id": "e080fa59-3715-49be-8517-4e1fcf102139",
   "metadata": {},
   "outputs": [],
   "source": [
    "stroke = data[data.stroke == 1]\n",
    "non_stroke = data[data.stroke == 0]"
   ]
  },
  {
   "cell_type": "code",
   "execution_count": 22,
   "id": "eb129be2-f91c-4f78-b70b-fb58342c6399",
   "metadata": {},
   "outputs": [
    {
     "data": {
      "image/png": "[encoded data removed]",
      "text/plain": [
       "<Figure size 1200x600 with 2 Axes>"
      ]
     },
     "metadata": {},
     "output_type": "display_data"
    },
    {
     "name": "stdout",
     "output_type": "stream",
     "text": [
      "Average glucose levels in people with stroke\n",
      "Mean: 132.5\n",
      "Median: 105.2 \n",
      "\n",
      "Average glucose levels in people with non-stroke\n",
      "Mean: 104.8\n",
      "Median: 91.5\n"
     ]
    }
   ],
   "source": [
    "fig = plt.figure(figsize = [12,6])\n",
    "stroke_glucose = stroke.avg_glucose_level\n",
    "non_stroke_glucose = non_stroke.avg_glucose_level\n",
    "\n",
    "plt.subplot(1,2,1)\n",
    "plt.hist(stroke_glucose, bins=15, weights=np.ones_like(stroke_glucose) / len(stroke_glucose))\n",
    "plt.title(\"Average glucose levels in people with stroke\")\n",
    "plt.xlabel(\"Average glucose levels\")\n",
    "plt.ylabel(\"Relative frequency\")\n",
    "plt.ylim(0, 0.25)\n",
    "\n",
    "plt.subplot(1,2,2)\n",
    "plt.hist(non_stroke_glucose, bins=15, weights=np.ones_like(non_stroke_glucose) / len(non_stroke_glucose))\n",
    "plt.title(\"Average glucose levels in people with non-stroke\")\n",
    "plt.xlabel(\"Average glucose levels\")\n",
    "plt.ylabel(\"Relative frequency\")\n",
    "plt.ylim(0, 0.25)\n",
    "\n",
    "plt.show()\n",
    "\n",
    "import statistics\n",
    "print(\"Average glucose levels in people with stroke\")\n",
    "print(\"Mean: %.1f\" % statistics.mean(stroke_glucose))\n",
    "print(\"Median: %.1f\" % statistics.median(stroke_glucose), \"\\n\")\n",
    "\n",
    "print(\"Average glucose levels in people with non-stroke\")\n",
    "print(\"Mean: %.1f\" % statistics.mean(non_stroke_glucose))\n",
    "print(\"Median: %.1f\" % statistics.median(non_stroke_glucose))"
   ]
  },
  {
   "cell_type": "markdown",
   "id": "3701c6fe-dca9-4176-bb12-86d379a4d55e",
   "metadata": {},
   "source": [
    "The histograms demonstrate the distributions of average glucose levels in individuals with stroke compared to those without a stroke.  \n",
    "\n",
    "From the first histogram there is a peak around 75 glucose levels, similar to non-stroke individuals. We observe an incremental change around 150–200 glucose levels, compared to the non-stroke. On the other hand, the majority of non-stroke individuals have glucose levels concentrated in the 50–100 range, with a peak around 75. Beyond this range, there is a sharp decline in the relative frequency, with glucose levels above 150 becoming less common. There is, however, a small but noticeable change extending into higher glucose levels, showing that some non-stroke individuals still experience glucose levels between 150 and 250. It suggests that while lower glucose levels are prevalent in non-stroke individuals, there is still variation, with a minority of the population showing elevated glucose levels. People with strokes may have a wider range of glucose levels, with a significant proportion showing elevated levels. It implies that elevated glucose levels could be a contributing factor in stroke occurrences."
   ]
  },
  {
   "cell_type": "code",
   "execution_count": 24,
   "id": "2a8f3f86-6a4d-4a3a-a4e6-3b61939db8fc",
   "metadata": {},
   "outputs": [
    {
     "name": "stderr",
     "output_type": "stream",
     "text": [
      "C:\\Users\\kaito\\Anaconda\\Lib\\site-packages\\sklearn\\cluster\\_kmeans.py:1446: UserWarning: KMeans is known to have a memory leak on Windows with MKL, when there are less chunks than available threads. You can avoid it by setting the environment variable OMP_NUM_THREADS=2.\n",
      "  warnings.warn(\n"
     ]
    },
    {
     "name": "stdout",
     "output_type": "stream",
     "text": [
      "  age_group  stroke_rate  avg_glucose_level\n",
      "0      <=40     0.003567          95.643005\n",
      "1     40-60     0.040973         107.936665\n",
      "2     60-75     0.096544         122.072932\n",
      "3       75+     0.206452         121.995226\n"
     ]
    },
    {
     "data": {
      "image/png": "[encoded data removed]",
      "text/plain": [
       "<Figure size 640x480 with 1 Axes>"
      ]
     },
     "metadata": {},
     "output_type": "display_data"
    }
   ],
   "source": [
    "from sklearn.cluster import KMeans\n",
    "\n",
    "num_clusters = 2\n",
    "color_labels = [\"blue\", \"green\", \"yellow\", \"red\"]\n",
    "age_colors = dict(zip(age_labels, color_labels))\n",
    "\n",
    "for each_group in age_labels:\n",
    "    group_data = data[data.age_group == each_group]\n",
    "    group_data = group_data[[\"stroke\", \"avg_glucose_level\"]].values\n",
    "    model = KMeans(num_clusters)\n",
    "    model.fit(group_data)\n",
    "    plt.scatter(model.cluster_centers_[:,0], model.cluster_centers_[:,1], color=age_colors[each_group])\n",
    "\n",
    "grouped_data = data.groupby('age_group', observed=True).agg(\n",
    "    stroke_rate=(\"stroke\", \"mean\"),\n",
    "    avg_glucose_level=(\"avg_glucose_level\", \"mean\")).reset_index()\n",
    "print(grouped_data)\n",
    "plt.scatter(grouped_data[\"stroke_rate\"], grouped_data[\"avg_glucose_level\"], color=\"black\")\n",
    "\n",
    "plt.title(\"Clusters Based on Stroke Rate and Avg Glucose Level\")\n",
    "plt.xlabel(\"Stroke Rate\")\n",
    "plt.ylabel(\"Avg Glucose Level\")\n",
    "plt.show()"
   ]
  },
  {
   "cell_type": "markdown",
   "id": "880be789-5ce1-4b4b-a07e-160be11b5017",
   "metadata": {},
   "source": [
    "The scatter plots show different clusters based on stroke rate and average glucose levels. The two clusters within each group are visually distinct in their glucose levels and stroke rates.\n",
    "\n",
    "* Blue: <=40 years old\n",
    "* Green: 40-60 years old\n",
    "* Yellow: 60-75 years old\n",
    "* Red: 75+ years old\n",
    "* Black: average of each age group\n",
    "\n",
    "Based on the age groups represented by the same color, the clusters are divided into lower and higher average glucose levels. The higher levels have a higher stroke rate than the lower levels, except for the group under 40 years old, and the changes of three points, including the averages, are linear. \n",
    "\n",
    "When comparing average glucose levels, there are three groups divided into the lower, average, and higher glucose levels, each with four points. At the lower levels, the change is not significant, but the other two groups show exponential changes.\n",
    "\n",
    "Stroke rates tend to increase with age and higher glucose levels, as demonstrated by the clusters. The older not only has higher glucose levels but also a significantly higher stroke rate. This analysis suggests that age and glucose levels are key factors influencing stroke risk, with older individuals and those with higher glucose levels being more vulnerable to strokes."
   ]
  },
  {
   "cell_type": "markdown",
   "id": "27205390-e3d2-442b-a823-d554b95add9b",
   "metadata": {},
   "source": [
    "## Hypertension & heart disease"
   ]
  },
  {
   "cell_type": "code",
   "execution_count": 27,
   "id": "e931ac8e-a95b-49ce-8609-43cf7b554ae3",
   "metadata": {},
   "outputs": [
    {
     "data": {
      "image/png": "[encoded data removed]",
      "text/plain": [
       "<Figure size 1600x1600 with 2 Axes>"
      ]
     },
     "metadata": {},
     "output_type": "display_data"
    }
   ],
   "source": [
    "fig = plt.figure(figsize = [16,16])\n",
    "\n",
    "stroke_hyp_and_heart = stroke[(stroke.hypertension == 1) & (stroke.heart_disease == 1)]\n",
    "stroke_hyp = stroke[(stroke.hypertension == 1) & (stroke.heart_disease == 0)]\n",
    "stroke_heart = stroke[(stroke.hypertension == 0) & (stroke.heart_disease == 1)]\n",
    "stroke_none = stroke[(stroke.hypertension == 0) & (stroke.heart_disease == 0)]\n",
    "plt.subplot(1,2,1)\n",
    "plt.pie([len(stroke_hyp_and_heart), len(stroke_hyp), len(stroke_heart), len(stroke_none)], \n",
    "        labels=[\"hypertension & heart disease\", \"hypertension\", \"heart disease\", \"not both\"], autopct=\"%.1f\")\n",
    "plt.title(\"Hypertension & heart disease in stroke\")\n",
    "\n",
    "non_stroke_hyp_and_heart = non_stroke[(non_stroke.hypertension == 1) & (non_stroke.heart_disease == 1)]\n",
    "non_stroke_hyp = non_stroke[(non_stroke.hypertension == 1) & (non_stroke.heart_disease == 0)]\n",
    "non_stroke_heart = non_stroke[(non_stroke.hypertension == 0) & (non_stroke.heart_disease == 1)]\n",
    "non_stroke_none = non_stroke[(non_stroke.hypertension == 0) & (non_stroke.heart_disease == 0)]\n",
    "plt.subplot(1,2,2)\n",
    "plt.pie([len(non_stroke_hyp_and_heart), len(non_stroke_hyp), len(non_stroke_heart), len(non_stroke_none)], \n",
    "        labels=[\"hypertension & heart diseae\", \"hypertension\", \"heart disease\", \"not both\"], autopct=\"%.1f\")\n",
    "plt.title(\"Hypertension & heart disease in non-stroke\")\n",
    "plt.show()"
   ]
  },
  {
   "cell_type": "markdown",
   "id": "603aee9c-2708-4b07-ae29-d900af8b72ff",
   "metadata": {},
   "source": [
    "### Hypertension & heart disease in stroke"
   ]
  },
  {
   "cell_type": "markdown",
   "id": "43941855-deff-4d03-be6b-8e6c33d2d514",
   "metadata": {},
   "source": [
    "The pie chart includes: hypertension and heart disease in stroke individuals into four categories:\n",
    "\n",
    "* 59.8% of individuals have neither hypertension nor heart disease.\n",
    "\n",
    "* 21.3% of individuals have hypertension without heart disease.\n",
    "\n",
    "* 13.7% have heart disease without hypertension.\n",
    "\n",
    "* 5.2% have both hypertension and heart disease.\n",
    "\n",
    "This distribution suggests that the majority of stroke individuals do not have either condition, while the remainder, about 40%, shows instances of either hypertension or heart disease. However, only a small proportion experience both conditions simultaneously. This implies that having either hypertension or heart disease is not necessarily linked to stroke, but other factors could be influencing stroke incidence in individuals with these conditions."
   ]
  },
  {
   "cell_type": "markdown",
   "id": "8338d34b-6bc3-43ca-b284-14725abcd89f",
   "metadata": {},
   "source": [
    "### Hypertension & heart disease in non-stroke"
   ]
  },
  {
   "cell_type": "markdown",
   "id": "812a7c6f-38be-467a-aa50-f7cc9a5f4c8b",
   "metadata": {},
   "source": [
    "The chart shows that the majority of non-stroke individuals do not have both hypertension and heart disease.\n",
    "\n",
    "* 87.4% do not have either\n",
    "\n",
    "* 7.8% have hypertension without heart disease.\n",
    "\n",
    "* 3.7% have heart disease without hypertension.\n",
    "\n",
    "* 1.0% of non-stroke individuals have both hypertension and heart disease.\n",
    "\n",
    "This suggests that most non-stroke individuals are free from both conditions, with only a small percentage, about 13%, dealing with either or both."
   ]
  },
  {
   "cell_type": "markdown",
   "id": "f81498ef-648a-47f5-9982-7f0c1c353711",
   "metadata": {},
   "source": [
    "## Relevance to stroke: correlation heatmap."
   ]
  },
  {
   "cell_type": "code",
   "execution_count": 33,
   "id": "557be854-92c8-4c93-a0a3-f6d0bdd759da",
   "metadata": {},
   "outputs": [
    {
     "data": {
      "text/html": [
       "<div>\n",
       "<style scoped>\n",
       "    .dataframe tbody tr th:only-of-type {\n",
       "        vertical-align: middle;\n",
       "    }\n",
       "\n",
       "    .dataframe tbody tr th {\n",
       "        vertical-align: top;\n",
       "    }\n",
       "\n",
       "    .dataframe thead th {\n",
       "        text-align: right;\n",
       "    }\n",
       "</style>\n",
       "<table border=\"1\" class=\"dataframe\">\n",
       "  <thead>\n",
       "    <tr style=\"text-align: right;\">\n",
       "      <th></th>\n",
       "      <th>gender</th>\n",
       "      <th>age</th>\n",
       "      <th>hypertension</th>\n",
       "      <th>heart_disease</th>\n",
       "      <th>avg_glucose_level</th>\n",
       "      <th>stroke</th>\n",
       "      <th>age_group</th>\n",
       "    </tr>\n",
       "  </thead>\n",
       "  <tbody>\n",
       "    <tr>\n",
       "      <th>0</th>\n",
       "      <td>1</td>\n",
       "      <td>67.0</td>\n",
       "      <td>0</td>\n",
       "      <td>1</td>\n",
       "      <td>228.69</td>\n",
       "      <td>1</td>\n",
       "      <td>60-75</td>\n",
       "    </tr>\n",
       "    <tr>\n",
       "      <th>1</th>\n",
       "      <td>0</td>\n",
       "      <td>61.0</td>\n",
       "      <td>0</td>\n",
       "      <td>0</td>\n",
       "      <td>202.21</td>\n",
       "      <td>1</td>\n",
       "      <td>60-75</td>\n",
       "    </tr>\n",
       "    <tr>\n",
       "      <th>2</th>\n",
       "      <td>1</td>\n",
       "      <td>80.0</td>\n",
       "      <td>0</td>\n",
       "      <td>1</td>\n",
       "      <td>105.92</td>\n",
       "      <td>1</td>\n",
       "      <td>75+</td>\n",
       "    </tr>\n",
       "    <tr>\n",
       "      <th>3</th>\n",
       "      <td>0</td>\n",
       "      <td>49.0</td>\n",
       "      <td>0</td>\n",
       "      <td>0</td>\n",
       "      <td>171.23</td>\n",
       "      <td>1</td>\n",
       "      <td>40-60</td>\n",
       "    </tr>\n",
       "    <tr>\n",
       "      <th>4</th>\n",
       "      <td>0</td>\n",
       "      <td>79.0</td>\n",
       "      <td>1</td>\n",
       "      <td>0</td>\n",
       "      <td>174.12</td>\n",
       "      <td>1</td>\n",
       "      <td>75+</td>\n",
       "    </tr>\n",
       "  </tbody>\n",
       "</table>\n",
       "</div>"
      ],
      "text/plain": [
       "   gender   age  hypertension  heart_disease  avg_glucose_level  stroke  \\\n",
       "0       1  67.0             0              1             228.69       1   \n",
       "1       0  61.0             0              0             202.21       1   \n",
       "2       1  80.0             0              1             105.92       1   \n",
       "3       0  49.0             0              0             171.23       1   \n",
       "4       0  79.0             1              0             174.12       1   \n",
       "\n",
       "  age_group  \n",
       "0     60-75  \n",
       "1     60-75  \n",
       "2       75+  \n",
       "3     40-60  \n",
       "4       75+  "
      ]
     },
     "execution_count": 33,
     "metadata": {},
     "output_type": "execute_result"
    }
   ],
   "source": [
    "data[\"gender\"] = np.uint8(data.gender==\"Male\")\n",
    "data.head()"
   ]
  },
  {
   "cell_type": "code",
   "execution_count": 34,
   "id": "d4e24003-e9f2-4ee9-9df5-5f3f83fc516a",
   "metadata": {},
   "outputs": [
    {
     "data": {
      "text/html": [
       "<div>\n",
       "<style scoped>\n",
       "    .dataframe tbody tr th:only-of-type {\n",
       "        vertical-align: middle;\n",
       "    }\n",
       "\n",
       "    .dataframe tbody tr th {\n",
       "        vertical-align: top;\n",
       "    }\n",
       "\n",
       "    .dataframe thead th {\n",
       "        text-align: right;\n",
       "    }\n",
       "</style>\n",
       "<table border=\"1\" class=\"dataframe\">\n",
       "  <thead>\n",
       "    <tr style=\"text-align: right;\">\n",
       "      <th></th>\n",
       "      <th>gender</th>\n",
       "      <th>age</th>\n",
       "      <th>avg_glucose_level</th>\n",
       "      <th>hypertension</th>\n",
       "      <th>heart_disease</th>\n",
       "      <th>stroke</th>\n",
       "    </tr>\n",
       "  </thead>\n",
       "  <tbody>\n",
       "    <tr>\n",
       "      <th>0</th>\n",
       "      <td>1</td>\n",
       "      <td>67.0</td>\n",
       "      <td>228.69</td>\n",
       "      <td>0</td>\n",
       "      <td>1</td>\n",
       "      <td>1</td>\n",
       "    </tr>\n",
       "    <tr>\n",
       "      <th>1</th>\n",
       "      <td>0</td>\n",
       "      <td>61.0</td>\n",
       "      <td>202.21</td>\n",
       "      <td>0</td>\n",
       "      <td>0</td>\n",
       "      <td>1</td>\n",
       "    </tr>\n",
       "    <tr>\n",
       "      <th>2</th>\n",
       "      <td>1</td>\n",
       "      <td>80.0</td>\n",
       "      <td>105.92</td>\n",
       "      <td>0</td>\n",
       "      <td>1</td>\n",
       "      <td>1</td>\n",
       "    </tr>\n",
       "    <tr>\n",
       "      <th>3</th>\n",
       "      <td>0</td>\n",
       "      <td>49.0</td>\n",
       "      <td>171.23</td>\n",
       "      <td>0</td>\n",
       "      <td>0</td>\n",
       "      <td>1</td>\n",
       "    </tr>\n",
       "    <tr>\n",
       "      <th>4</th>\n",
       "      <td>0</td>\n",
       "      <td>79.0</td>\n",
       "      <td>174.12</td>\n",
       "      <td>1</td>\n",
       "      <td>0</td>\n",
       "      <td>1</td>\n",
       "    </tr>\n",
       "  </tbody>\n",
       "</table>\n",
       "</div>"
      ],
      "text/plain": [
       "   gender   age  avg_glucose_level  hypertension  heart_disease  stroke\n",
       "0       1  67.0             228.69             0              1       1\n",
       "1       0  61.0             202.21             0              0       1\n",
       "2       1  80.0             105.92             0              1       1\n",
       "3       0  49.0             171.23             0              0       1\n",
       "4       0  79.0             174.12             1              0       1"
      ]
     },
     "execution_count": 34,
     "metadata": {},
     "output_type": "execute_result"
    }
   ],
   "source": [
    "order = [\"gender\", \"age\", \"avg_glucose_level\", \"hypertension\", \"heart_disease\", \"stroke\"]\n",
    "data = data[order]\n",
    "data.head()"
   ]
  },
  {
   "cell_type": "code",
   "execution_count": 35,
   "id": "306016d5-aa97-4006-8a77-b4bb8fd99512",
   "metadata": {},
   "outputs": [
    {
     "data": {
      "image/png": "[encoded data removed]",
      "text/plain": [
       "<Figure size 1000x800 with 2 Axes>"
      ]
     },
     "metadata": {},
     "output_type": "display_data"
    }
   ],
   "source": [
    "import seaborn as sn\n",
    "\n",
    "plt.figure(figsize=(10,8))\n",
    "dataplot = sn.heatmap(data.corr(), annot=True)\n",
    "  \n",
    "plt.show()"
   ]
  },
  {
   "cell_type": "markdown",
   "id": "939c555c-a537-43d2-97cd-4cab1483004d",
   "metadata": {},
   "source": [
    "The heatmap shows the relationships between different health factors and stroke incidence.\n",
    "\n",
    "* Age and Stroke: Age shows a moderate positive correlation with stroke, suggesting that older individuals are more likely to experience strokes.\n",
    "\n",
    "* Heart Disease and Stroke: There is a positive correlation between heart disease and stroke, indicating that one is a factor of each other.\n",
    "\n",
    "* Average Glucose Level and Stroke: The average glucose level has a positive correlation with stroke, indicating that elevated glucose levels could potentially be a factor.\n",
    "\n",
    "* Hypertension and Stroke: Hypertension also correlates with stroke, which aligns with the statement that high blood pressure can cause a stroke.\n",
    "\n",
    "Overall, the data suggest that factors like age, hypertension, and glucose levels have some association with stroke. "
   ]
  },
  {
   "cell_type": "markdown",
   "id": "c3cc6d7b-0a9f-4bef-b4a2-a6f4dfb7229f",
   "metadata": {},
   "source": [
    "### Relevance to stroke\n",
    "#### gender < avg_glucose_level, hypertension, heart_disease < age"
   ]
  },
  {
   "cell_type": "markdown",
   "id": "38177a6d-324a-4010-a176-1cd204e13380",
   "metadata": {},
   "source": [
    "## Logistic Regression"
   ]
  },
  {
   "cell_type": "code",
   "execution_count": 39,
   "id": "e6d73902-aebd-48cb-a233-26d900050395",
   "metadata": {},
   "outputs": [
    {
     "data": {
      "text/html": [
       "<div>\n",
       "<style scoped>\n",
       "    .dataframe tbody tr th:only-of-type {\n",
       "        vertical-align: middle;\n",
       "    }\n",
       "\n",
       "    .dataframe tbody tr th {\n",
       "        vertical-align: top;\n",
       "    }\n",
       "\n",
       "    .dataframe thead th {\n",
       "        text-align: right;\n",
       "    }\n",
       "</style>\n",
       "<table border=\"1\" class=\"dataframe\">\n",
       "  <thead>\n",
       "    <tr style=\"text-align: right;\">\n",
       "      <th></th>\n",
       "      <th>gender</th>\n",
       "      <th>age</th>\n",
       "      <th>avg_glucose_level</th>\n",
       "      <th>hypertension</th>\n",
       "      <th>heart_disease</th>\n",
       "    </tr>\n",
       "  </thead>\n",
       "  <tbody>\n",
       "    <tr>\n",
       "      <th>0</th>\n",
       "      <td>1</td>\n",
       "      <td>67.0</td>\n",
       "      <td>228.69</td>\n",
       "      <td>0</td>\n",
       "      <td>1</td>\n",
       "    </tr>\n",
       "    <tr>\n",
       "      <th>1</th>\n",
       "      <td>0</td>\n",
       "      <td>61.0</td>\n",
       "      <td>202.21</td>\n",
       "      <td>0</td>\n",
       "      <td>0</td>\n",
       "    </tr>\n",
       "    <tr>\n",
       "      <th>2</th>\n",
       "      <td>1</td>\n",
       "      <td>80.0</td>\n",
       "      <td>105.92</td>\n",
       "      <td>0</td>\n",
       "      <td>1</td>\n",
       "    </tr>\n",
       "    <tr>\n",
       "      <th>3</th>\n",
       "      <td>0</td>\n",
       "      <td>49.0</td>\n",
       "      <td>171.23</td>\n",
       "      <td>0</td>\n",
       "      <td>0</td>\n",
       "    </tr>\n",
       "    <tr>\n",
       "      <th>4</th>\n",
       "      <td>0</td>\n",
       "      <td>79.0</td>\n",
       "      <td>174.12</td>\n",
       "      <td>1</td>\n",
       "      <td>0</td>\n",
       "    </tr>\n",
       "  </tbody>\n",
       "</table>\n",
       "</div>"
      ],
      "text/plain": [
       "   gender   age  avg_glucose_level  hypertension  heart_disease\n",
       "0       1  67.0             228.69             0              1\n",
       "1       0  61.0             202.21             0              0\n",
       "2       1  80.0             105.92             0              1\n",
       "3       0  49.0             171.23             0              0\n",
       "4       0  79.0             174.12             1              0"
      ]
     },
     "execution_count": 39,
     "metadata": {},
     "output_type": "execute_result"
    }
   ],
   "source": [
    "labels = np.array(data.stroke)\n",
    "data.drop([\"stroke\"], axis=1, inplace=True)\n",
    "data.head()"
   ]
  },
  {
   "cell_type": "markdown",
   "id": "e2659714-a457-4c42-8636-74242e316e90",
   "metadata": {},
   "source": [
    "#### Testing 20%"
   ]
  },
  {
   "cell_type": "code",
   "execution_count": 41,
   "id": "deb31b5a-6490-4935-8612-22dbe5898713",
   "metadata": {},
   "outputs": [],
   "source": [
    "from sklearn.model_selection import train_test_split\n",
    "X_train, X_test, y_train, y_test = train_test_split(data, labels, test_size=0.2, random_state=42)"
   ]
  },
  {
   "cell_type": "code",
   "execution_count": 42,
   "id": "b9492810-4620-4533-94ad-9023edad8abf",
   "metadata": {},
   "outputs": [
    {
     "data": {
      "text/html": [
       "<style>#sk-container-id-1 {\n",
       "  /* Definition of color scheme common for light and dark mode */\n",
       "  --sklearn-color-text: black;\n",
       "  --sklearn-color-line: gray;\n",
       "  /* Definition of color scheme for unfitted estimators */\n",
       "  --sklearn-color-unfitted-level-0: #fff5e6;\n",
       "  --sklearn-color-unfitted-level-1: #f6e4d2;\n",
       "  --sklearn-color-unfitted-level-2: #ffe0b3;\n",
       "  --sklearn-color-unfitted-level-3: chocolate;\n",
       "  /* Definition of color scheme for fitted estimators */\n",
       "  --sklearn-color-fitted-level-0: #f0f8ff;\n",
       "  --sklearn-color-fitted-level-1: #d4ebff;\n",
       "  --sklearn-color-fitted-level-2: #b3dbfd;\n",
       "  --sklearn-color-fitted-level-3: cornflowerblue;\n",
       "\n",
       "  /* Specific color for light theme */\n",
       "  --sklearn-color-text-on-default-background: var(--sg-text-color, var(--theme-code-foreground, var(--jp-content-font-color1, black)));\n",
       "  --sklearn-color-background: var(--sg-background-color, var(--theme-background, var(--jp-layout-color0, white)));\n",
       "  --sklearn-color-border-box: var(--sg-text-color, var(--theme-code-foreground, var(--jp-content-font-color1, black)));\n",
       "  --sklearn-color-icon: #696969;\n",
       "\n",
       "  @media (prefers-color-scheme: dark) {\n",
       "    /* Redefinition of color scheme for dark theme */\n",
       "    --sklearn-color-text-on-default-background: var(--sg-text-color, var(--theme-code-foreground, var(--jp-content-font-color1, white)));\n",
       "    --sklearn-color-background: var(--sg-background-color, var(--theme-background, var(--jp-layout-color0, #111)));\n",
       "    --sklearn-color-border-box: var(--sg-text-color, var(--theme-code-foreground, var(--jp-content-font-color1, white)));\n",
       "    --sklearn-color-icon: #878787;\n",
       "  }\n",
       "}\n",
       "\n",
       "#sk-container-id-1 {\n",
       "  color: var(--sklearn-color-text);\n",
       "}\n",
       "\n",
       "#sk-container-id-1 pre {\n",
       "  padding: 0;\n",
       "}\n",
       "\n",
       "#sk-container-id-1 input.sk-hidden--visually {\n",
       "  border: 0;\n",
       "  clip: rect(1px 1px 1px 1px);\n",
       "  clip: rect(1px, 1px, 1px, 1px);\n",
       "  height: 1px;\n",
       "  margin: -1px;\n",
       "  overflow: hidden;\n",
       "  padding: 0;\n",
       "  position: absolute;\n",
       "  width: 1px;\n",
       "}\n",
       "\n",
       "#sk-container-id-1 div.sk-dashed-wrapped {\n",
       "  border: 1px dashed var(--sklearn-color-line);\n",
       "  margin: 0 0.4em 0.5em 0.4em;\n",
       "  box-sizing: border-box;\n",
       "  padding-bottom: 0.4em;\n",
       "  background-color: var(--sklearn-color-background);\n",
       "}\n",
       "\n",
       "#sk-container-id-1 div.sk-container {\n",
       "  /* jupyter's `normalize.less` sets `[hidden] { display: none; }`\n",
       "     but bootstrap.min.css set `[hidden] { display: none !important; }`\n",
       "     so we also need the `!important` here to be able to override the\n",
       "     default hidden behavior on the sphinx rendered scikit-learn.org.\n",
       "     See: https://github.com/scikit-learn/scikit-learn/issues/21755 */\n",
       "  display: inline-block !important;\n",
       "  position: relative;\n",
       "}\n",
       "\n",
       "#sk-container-id-1 div.sk-text-repr-fallback {\n",
       "  display: none;\n",
       "}\n",
       "\n",
       "div.sk-parallel-item,\n",
       "div.sk-serial,\n",
       "div.sk-item {\n",
       "  /* draw centered vertical line to link estimators */\n",
       "  background-image: linear-gradient(var(--sklearn-color-text-on-default-background), var(--sklearn-color-text-on-default-background));\n",
       "  background-size: 2px 100%;\n",
       "  background-repeat: no-repeat;\n",
       "  background-position: center center;\n",
       "}\n",
       "\n",
       "/* Parallel-specific style estimator block */\n",
       "\n",
       "#sk-container-id-1 div.sk-parallel-item::after {\n",
       "  content: \"\";\n",
       "  width: 100%;\n",
       "  border-bottom: 2px solid var(--sklearn-color-text-on-default-background);\n",
       "  flex-grow: 1;\n",
       "}\n",
       "\n",
       "#sk-container-id-1 div.sk-parallel {\n",
       "  display: flex;\n",
       "  align-items: stretch;\n",
       "  justify-content: center;\n",
       "  background-color: var(--sklearn-color-background);\n",
       "  position: relative;\n",
       "}\n",
       "\n",
       "#sk-container-id-1 div.sk-parallel-item {\n",
       "  display: flex;\n",
       "  flex-direction: column;\n",
       "}\n",
       "\n",
       "#sk-container-id-1 div.sk-parallel-item:first-child::after {\n",
       "  align-self: flex-end;\n",
       "  width: 50%;\n",
       "}\n",
       "\n",
       "#sk-container-id-1 div.sk-parallel-item:last-child::after {\n",
       "  align-self: flex-start;\n",
       "  width: 50%;\n",
       "}\n",
       "\n",
       "#sk-container-id-1 div.sk-parallel-item:only-child::after {\n",
       "  width: 0;\n",
       "}\n",
       "\n",
       "/* Serial-specific style estimator block */\n",
       "\n",
       "#sk-container-id-1 div.sk-serial {\n",
       "  display: flex;\n",
       "  flex-direction: column;\n",
       "  align-items: center;\n",
       "  background-color: var(--sklearn-color-background);\n",
       "  padding-right: 1em;\n",
       "  padding-left: 1em;\n",
       "}\n",
       "\n",
       "\n",
       "/* Toggleable style: style used for estimator/Pipeline/ColumnTransformer box that is\n",
       "clickable and can be expanded/collapsed.\n",
       "- Pipeline and ColumnTransformer use this feature and define the default style\n",
       "- Estimators will overwrite some part of the style using the `sk-estimator` class\n",
       "*/\n",
       "\n",
       "/* Pipeline and ColumnTransformer style (default) */\n",
       "\n",
       "#sk-container-id-1 div.sk-toggleable {\n",
       "  /* Default theme specific background. It is overwritten whether we have a\n",
       "  specific estimator or a Pipeline/ColumnTransformer */\n",
       "  background-color: var(--sklearn-color-background);\n",
       "}\n",
       "\n",
       "/* Toggleable label */\n",
       "#sk-container-id-1 label.sk-toggleable__label {\n",
       "  cursor: pointer;\n",
       "  display: block;\n",
       "  width: 100%;\n",
       "  margin-bottom: 0;\n",
       "  padding: 0.5em;\n",
       "  box-sizing: border-box;\n",
       "  text-align: center;\n",
       "}\n",
       "\n",
       "#sk-container-id-1 label.sk-toggleable__label-arrow:before {\n",
       "  /* Arrow on the left of the label */\n",
       "  content: \"▸\";\n",
       "  float: left;\n",
       "  margin-right: 0.25em;\n",
       "  color: var(--sklearn-color-icon);\n",
       "}\n",
       "\n",
       "#sk-container-id-1 label.sk-toggleable__label-arrow:hover:before {\n",
       "  color: var(--sklearn-color-text);\n",
       "}\n",
       "\n",
       "/* Toggleable content - dropdown */\n",
       "\n",
       "#sk-container-id-1 div.sk-toggleable__content {\n",
       "  max-height: 0;\n",
       "  max-width: 0;\n",
       "  overflow: hidden;\n",
       "  text-align: left;\n",
       "  /* unfitted */\n",
       "  background-color: var(--sklearn-color-unfitted-level-0);\n",
       "}\n",
       "\n",
       "#sk-container-id-1 div.sk-toggleable__content.fitted {\n",
       "  /* fitted */\n",
       "  background-color: var(--sklearn-color-fitted-level-0);\n",
       "}\n",
       "\n",
       "#sk-container-id-1 div.sk-toggleable__content pre {\n",
       "  margin: 0.2em;\n",
       "  border-radius: 0.25em;\n",
       "  color: var(--sklearn-color-text);\n",
       "  /* unfitted */\n",
       "  background-color: var(--sklearn-color-unfitted-level-0);\n",
       "}\n",
       "\n",
       "#sk-container-id-1 div.sk-toggleable__content.fitted pre {\n",
       "  /* unfitted */\n",
       "  background-color: var(--sklearn-color-fitted-level-0);\n",
       "}\n",
       "\n",
       "#sk-container-id-1 input.sk-toggleable__control:checked~div.sk-toggleable__content {\n",
       "  /* Expand drop-down */\n",
       "  max-height: 200px;\n",
       "  max-width: 100%;\n",
       "  overflow: auto;\n",
       "}\n",
       "\n",
       "#sk-container-id-1 input.sk-toggleable__control:checked~label.sk-toggleable__label-arrow:before {\n",
       "  content: \"▾\";\n",
       "}\n",
       "\n",
       "/* Pipeline/ColumnTransformer-specific style */\n",
       "\n",
       "#sk-container-id-1 div.sk-label input.sk-toggleable__control:checked~label.sk-toggleable__label {\n",
       "  color: var(--sklearn-color-text);\n",
       "  background-color: var(--sklearn-color-unfitted-level-2);\n",
       "}\n",
       "\n",
       "#sk-container-id-1 div.sk-label.fitted input.sk-toggleable__control:checked~label.sk-toggleable__label {\n",
       "  background-color: var(--sklearn-color-fitted-level-2);\n",
       "}\n",
       "\n",
       "/* Estimator-specific style */\n",
       "\n",
       "/* Colorize estimator box */\n",
       "#sk-container-id-1 div.sk-estimator input.sk-toggleable__control:checked~label.sk-toggleable__label {\n",
       "  /* unfitted */\n",
       "  background-color: var(--sklearn-color-unfitted-level-2);\n",
       "}\n",
       "\n",
       "#sk-container-id-1 div.sk-estimator.fitted input.sk-toggleable__control:checked~label.sk-toggleable__label {\n",
       "  /* fitted */\n",
       "  background-color: var(--sklearn-color-fitted-level-2);\n",
       "}\n",
       "\n",
       "#sk-container-id-1 div.sk-label label.sk-toggleable__label,\n",
       "#sk-container-id-1 div.sk-label label {\n",
       "  /* The background is the default theme color */\n",
       "  color: var(--sklearn-color-text-on-default-background);\n",
       "}\n",
       "\n",
       "/* On hover, darken the color of the background */\n",
       "#sk-container-id-1 div.sk-label:hover label.sk-toggleable__label {\n",
       "  color: var(--sklearn-color-text);\n",
       "  background-color: var(--sklearn-color-unfitted-level-2);\n",
       "}\n",
       "\n",
       "/* Label box, darken color on hover, fitted */\n",
       "#sk-container-id-1 div.sk-label.fitted:hover label.sk-toggleable__label.fitted {\n",
       "  color: var(--sklearn-color-text);\n",
       "  background-color: var(--sklearn-color-fitted-level-2);\n",
       "}\n",
       "\n",
       "/* Estimator label */\n",
       "\n",
       "#sk-container-id-1 div.sk-label label {\n",
       "  font-family: monospace;\n",
       "  font-weight: bold;\n",
       "  display: inline-block;\n",
       "  line-height: 1.2em;\n",
       "}\n",
       "\n",
       "#sk-container-id-1 div.sk-label-container {\n",
       "  text-align: center;\n",
       "}\n",
       "\n",
       "/* Estimator-specific */\n",
       "#sk-container-id-1 div.sk-estimator {\n",
       "  font-family: monospace;\n",
       "  border: 1px dotted var(--sklearn-color-border-box);\n",
       "  border-radius: 0.25em;\n",
       "  box-sizing: border-box;\n",
       "  margin-bottom: 0.5em;\n",
       "  /* unfitted */\n",
       "  background-color: var(--sklearn-color-unfitted-level-0);\n",
       "}\n",
       "\n",
       "#sk-container-id-1 div.sk-estimator.fitted {\n",
       "  /* fitted */\n",
       "  background-color: var(--sklearn-color-fitted-level-0);\n",
       "}\n",
       "\n",
       "/* on hover */\n",
       "#sk-container-id-1 div.sk-estimator:hover {\n",
       "  /* unfitted */\n",
       "  background-color: var(--sklearn-color-unfitted-level-2);\n",
       "}\n",
       "\n",
       "#sk-container-id-1 div.sk-estimator.fitted:hover {\n",
       "  /* fitted */\n",
       "  background-color: var(--sklearn-color-fitted-level-2);\n",
       "}\n",
       "\n",
       "/* Specification for estimator info (e.g. \"i\" and \"?\") */\n",
       "\n",
       "/* Common style for \"i\" and \"?\" */\n",
       "\n",
       ".sk-estimator-doc-link,\n",
       "a:link.sk-estimator-doc-link,\n",
       "a:visited.sk-estimator-doc-link {\n",
       "  float: right;\n",
       "  font-size: smaller;\n",
       "  line-height: 1em;\n",
       "  font-family: monospace;\n",
       "  background-color: var(--sklearn-color-background);\n",
       "  border-radius: 1em;\n",
       "  height: 1em;\n",
       "  width: 1em;\n",
       "  text-decoration: none !important;\n",
       "  margin-left: 1ex;\n",
       "  /* unfitted */\n",
       "  border: var(--sklearn-color-unfitted-level-1) 1pt solid;\n",
       "  color: var(--sklearn-color-unfitted-level-1);\n",
       "}\n",
       "\n",
       ".sk-estimator-doc-link.fitted,\n",
       "a:link.sk-estimator-doc-link.fitted,\n",
       "a:visited.sk-estimator-doc-link.fitted {\n",
       "  /* fitted */\n",
       "  border: var(--sklearn-color-fitted-level-1) 1pt solid;\n",
       "  color: var(--sklearn-color-fitted-level-1);\n",
       "}\n",
       "\n",
       "/* On hover */\n",
       "div.sk-estimator:hover .sk-estimator-doc-link:hover,\n",
       ".sk-estimator-doc-link:hover,\n",
       "div.sk-label-container:hover .sk-estimator-doc-link:hover,\n",
       ".sk-estimator-doc-link:hover {\n",
       "  /* unfitted */\n",
       "  background-color: var(--sklearn-color-unfitted-level-3);\n",
       "  color: var(--sklearn-color-background);\n",
       "  text-decoration: none;\n",
       "}\n",
       "\n",
       "div.sk-estimator.fitted:hover .sk-estimator-doc-link.fitted:hover,\n",
       ".sk-estimator-doc-link.fitted:hover,\n",
       "div.sk-label-container:hover .sk-estimator-doc-link.fitted:hover,\n",
       ".sk-estimator-doc-link.fitted:hover {\n",
       "  /* fitted */\n",
       "  background-color: var(--sklearn-color-fitted-level-3);\n",
       "  color: var(--sklearn-color-background);\n",
       "  text-decoration: none;\n",
       "}\n",
       "\n",
       "/* Span, style for the box shown on hovering the info icon */\n",
       ".sk-estimator-doc-link span {\n",
       "  display: none;\n",
       "  z-index: 9999;\n",
       "  position: relative;\n",
       "  font-weight: normal;\n",
       "  right: .2ex;\n",
       "  padding: .5ex;\n",
       "  margin: .5ex;\n",
       "  width: min-content;\n",
       "  min-width: 20ex;\n",
       "  max-width: 50ex;\n",
       "  color: var(--sklearn-color-text);\n",
       "  box-shadow: 2pt 2pt 4pt #999;\n",
       "  /* unfitted */\n",
       "  background: var(--sklearn-color-unfitted-level-0);\n",
       "  border: .5pt solid var(--sklearn-color-unfitted-level-3);\n",
       "}\n",
       "\n",
       ".sk-estimator-doc-link.fitted span {\n",
       "  /* fitted */\n",
       "  background: var(--sklearn-color-fitted-level-0);\n",
       "  border: var(--sklearn-color-fitted-level-3);\n",
       "}\n",
       "\n",
       ".sk-estimator-doc-link:hover span {\n",
       "  display: block;\n",
       "}\n",
       "\n",
       "/* \"?\"-specific style due to the `<a>` HTML tag */\n",
       "\n",
       "#sk-container-id-1 a.estimator_doc_link {\n",
       "  float: right;\n",
       "  font-size: 1rem;\n",
       "  line-height: 1em;\n",
       "  font-family: monospace;\n",
       "  background-color: var(--sklearn-color-background);\n",
       "  border-radius: 1rem;\n",
       "  height: 1rem;\n",
       "  width: 1rem;\n",
       "  text-decoration: none;\n",
       "  /* unfitted */\n",
       "  color: var(--sklearn-color-unfitted-level-1);\n",
       "  border: var(--sklearn-color-unfitted-level-1) 1pt solid;\n",
       "}\n",
       "\n",
       "#sk-container-id-1 a.estimator_doc_link.fitted {\n",
       "  /* fitted */\n",
       "  border: var(--sklearn-color-fitted-level-1) 1pt solid;\n",
       "  color: var(--sklearn-color-fitted-level-1);\n",
       "}\n",
       "\n",
       "/* On hover */\n",
       "#sk-container-id-1 a.estimator_doc_link:hover {\n",
       "  /* unfitted */\n",
       "  background-color: var(--sklearn-color-unfitted-level-3);\n",
       "  color: var(--sklearn-color-background);\n",
       "  text-decoration: none;\n",
       "}\n",
       "\n",
       "#sk-container-id-1 a.estimator_doc_link.fitted:hover {\n",
       "  /* fitted */\n",
       "  background-color: var(--sklearn-color-fitted-level-3);\n",
       "}\n",
       "</style><div id=\"sk-container-id-1\" class=\"sk-top-container\"><div class=\"sk-text-repr-fallback\"><pre>LogisticRegression(max_iter=1000, multi_class=&#x27;multinomial&#x27;, random_state=0)</pre><b>In a Jupyter environment, please rerun this cell to show the HTML representation or trust the notebook. <br />On GitHub, the HTML representation is unable to render, please try loading this page with nbviewer.org.</b></div><div class=\"sk-container\" hidden><div class=\"sk-item\"><div class=\"sk-estimator fitted sk-toggleable\"><input class=\"sk-toggleable__control sk-hidden--visually\" id=\"sk-estimator-id-1\" type=\"checkbox\" checked><label for=\"sk-estimator-id-1\" class=\"sk-toggleable__label fitted sk-toggleable__label-arrow fitted\">&nbsp;&nbsp;LogisticRegression<a class=\"sk-estimator-doc-link fitted\" rel=\"noreferrer\" target=\"_blank\" href=\"https://scikit-learn.org/1.4/modules/generated/sklearn.linear_model.LogisticRegression.html\">?<span>Documentation for LogisticRegression</span></a><span class=\"sk-estimator-doc-link fitted\">i<span>Fitted</span></span></label><div class=\"sk-toggleable__content fitted\"><pre>LogisticRegression(max_iter=1000, multi_class=&#x27;multinomial&#x27;, random_state=0)</pre></div> </div></div></div></div>"
      ],
      "text/plain": [
       "LogisticRegression(max_iter=1000, multi_class='multinomial', random_state=0)"
      ]
     },
     "execution_count": 42,
     "metadata": {},
     "output_type": "execute_result"
    }
   ],
   "source": [
    "from sklearn.linear_model import LogisticRegression\n",
    "\n",
    "model = LogisticRegression(random_state=0, solver=\"lbfgs\",\n",
    "                         multi_class=\"multinomial\", max_iter=1000)\n",
    "model.fit(X_train,y_train)"
   ]
  },
  {
   "cell_type": "code",
   "execution_count": 43,
   "id": "1d583189-b3ce-4f27-8b9d-40caa199ba6a",
   "metadata": {},
   "outputs": [
    {
     "data": {
      "text/plain": [
       "<Axes: >"
      ]
     },
     "execution_count": 43,
     "metadata": {},
     "output_type": "execute_result"
    },
    {
     "data": {
      "image/png": "[encoded data removed]",
      "text/plain": [
       "<Figure size 1000x700 with 2 Axes>"
      ]
     },
     "metadata": {},
     "output_type": "display_data"
    }
   ],
   "source": [
    "import seaborn as sn\n",
    "numClasses = 2\n",
    "labels = [\"Non-stroke\", \"Stroke\"]\n",
    "conf = np.zeros([numClasses, numClasses])\n",
    "guesses = model.predict(X_test)\n",
    "\n",
    "for patient in range(len(y_test)):\n",
    "    real = y_test[patient]\n",
    "    guess = guesses[patient]\n",
    "    conf[real, guess] = conf[real, guess] + 1\n",
    " \n",
    "rowsums = np.sum(conf, 1)\n",
    "rowsums = np.reshape(rowsums, [numClasses, 1])\n",
    "rowsums = np.repeat(rowsums, numClasses, axis = 1)\n",
    "conf = conf / rowsums\n",
    "df_cm = pd.DataFrame(conf, index = [i for i in labels], columns = [i for i in labels])\n",
    "plt.figure(figsize = (10,7))\n",
    "sn.heatmap(df_cm, annot=True)"
   ]
  },
  {
   "cell_type": "code",
   "execution_count": 44,
   "id": "d9b573f5-6682-480b-9272-5f1240e5a29f",
   "metadata": {},
   "outputs": [
    {
     "name": "stdout",
     "output_type": "stream",
     "text": [
      "0.9393346379647749\n"
     ]
    }
   ],
   "source": [
    "print(model.score(X_test, y_test))"
   ]
  },
  {
   "cell_type": "code",
   "execution_count": 45,
   "id": "d1d87daa-9719-4988-a510-012ff860c4e6",
   "metadata": {},
   "outputs": [
    {
     "name": "stdout",
     "output_type": "stream",
     "text": [
      "The number of stroke in the test data:  62\n",
      "The number of non-stroke in the test data 960\n",
      "The total number in the test data:  1022\n"
     ]
    }
   ],
   "source": [
    "print(\"The number of stroke in the test data: \", np.sum(y_test == 1))\n",
    "print(\"The number of non-stroke in the test data\", np.sum(y_test == 0))\n",
    "print(\"The total number in the test data: \", len(y_test))"
   ]
  },
  {
   "cell_type": "markdown",
   "id": "b912e34f-07eb-4586-ac0a-cb76238c387e",
   "metadata": {},
   "source": [
    "Using the logistic regression model we can see that there is an accuracy of approximately 93.93%. This indicates that the model is effective. However, the confusion matrix shows that the model made 1 correct prediction for “Non-stroke” and no prediction for “Stroke,” which suggests the model might not predict stroke well because of the difference of the total number between stroke and non-stroke."
   ]
  },
  {
   "cell_type": "code",
   "execution_count": 47,
   "id": "bdfac8bd-5bd7-4a79-8ffd-75648e993ce4",
   "metadata": {},
   "outputs": [
    {
     "data": {
      "image/png": "[encoded data removed]",
      "text/plain": [
       "<Figure size 640x480 with 1 Axes>"
      ]
     },
     "metadata": {},
     "output_type": "display_data"
    }
   ],
   "source": [
    "stroke = np.sum(y_train)\n",
    "non_stroke = len(y_train) - stroke\n",
    "plt.pie([non_stroke, stroke], labels=[\"Non-stroke\", \"Stroke\"], radius=2, autopct=\"%.2f%%\")\n",
    "plt.show()"
   ]
  },
  {
   "cell_type": "markdown",
   "id": "0231250a-4998-4689-baa0-6c5273eb3591",
   "metadata": {},
   "source": [
    "The pie chart shows around 95.42% of the samples are “Non-stroke,” and 4.58% are “Stroke” from the train data."
   ]
  },
  {
   "cell_type": "markdown",
   "id": "5336c4a1-5664-4c9a-98f3-a8a9c6658cdb",
   "metadata": {},
   "source": [
    "In conclusion, our analysis reveals several key factors influencing stroke risk, including age, gender, glucose levels, hypertension, and heart disease. Stroke rates increase with age for both genders, but males are at a higher risk, especially those aged more than 75. Elevated glucose levels also appear to be linked to stroke occurrences, with stroke patients showing a higher range of glucose levels compared to non-stroke individuals. Health conditions like hypertension and heart disease are associated with stroke risk, but the data indicates that the majority of non-stroke individuals do not suffer from these conditions, suggesting that other variables play significant roles. The logistic regression model, with an accuracy of 93.93%, further reinforces the effectiveness of our analysis."
   ]
  },
  {
   "cell_type": "code",
   "execution_count": null,
   "id": "e25f5789-544d-472e-a717-9e4f26d66e7f",
   "metadata": {},
   "outputs": [],
   "source": []
  }
 ],
 "metadata": {
  "kernelspec": {
   "display_name": "Python 3 (ipykernel)",
   "language": "python",
   "name": "python3"
  },
  "language_info": {
   "codemirror_mode": {
    "name": "ipython",
    "version": 3
   },
   "file_extension": ".py",
   "mimetype": "text/x-python",
   "name": "python",
   "nbconvert_exporter": "python",
   "pygments_lexer": "ipython3",
   "version": "3.12.4"
  }
 },
 "nbformat": 4,
 "nbformat_minor": 5
}
